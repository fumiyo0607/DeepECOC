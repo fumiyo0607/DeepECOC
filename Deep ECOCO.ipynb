{
 "cells": [
  {
   "cell_type": "code",
   "execution_count": 1,
   "metadata": {},
   "outputs": [],
   "source": [
    "%matplotlib inline\n",
    "import matplotlib.pyplot as plt\n",
    "plt.style.use('ggplot')"
   ]
  },
  {
   "cell_type": "code",
   "execution_count": 2,
   "metadata": {},
   "outputs": [],
   "source": [
    "from sklearn import datasets\n",
    "iris = datasets.load_iris()\n",
    "features = iris.data\n",
    "targets = iris.target"
   ]
  },
  {
   "cell_type": "code",
   "execution_count": 21,
   "metadata": {},
   "outputs": [],
   "source": [
    "#kerasに必要なものをインポート\n",
    "from keras.models import Sequential\n",
    "from keras.layers import Dense, Activation\n",
    "import numpy as np"
   ]
  },
  {
   "cell_type": "code",
   "execution_count": 22,
   "metadata": {},
   "outputs": [
    {
     "name": "stderr",
     "output_type": "stream",
     "text": [
      "/anaconda3/lib/python3.7/site-packages/ipykernel_launcher.py:8: UserWarning: The `nb_epoch` argument in `fit` has been renamed `epochs`.\n",
      "  \n"
     ]
    },
    {
     "name": "stdout",
     "output_type": "stream",
     "text": [
      "Epoch 1/20\n",
      "150/150 [==============================] - 0s 1ms/step - loss: 0.9616 - acc: 0.5733\n",
      "Epoch 2/20\n",
      "150/150 [==============================] - 0s 216us/step - loss: 0.8842 - acc: 0.6267\n",
      "Epoch 3/20\n",
      "150/150 [==============================] - 0s 274us/step - loss: 0.8528 - acc: 0.6333\n",
      "Epoch 4/20\n",
      "150/150 [==============================] - 0s 200us/step - loss: 0.8280 - acc: 0.6533\n",
      "Epoch 5/20\n",
      "150/150 [==============================] - 0s 223us/step - loss: 0.8023 - acc: 0.6600\n",
      "Epoch 6/20\n",
      "150/150 [==============================] - 0s 224us/step - loss: 0.7843 - acc: 0.6600\n",
      "Epoch 7/20\n",
      "150/150 [==============================] - 0s 245us/step - loss: 0.7632 - acc: 0.6600\n",
      "Epoch 8/20\n",
      "150/150 [==============================] - 0s 227us/step - loss: 0.7418 - acc: 0.6533\n",
      "Epoch 9/20\n",
      "150/150 [==============================] - 0s 226us/step - loss: 0.7227 - acc: 0.6933\n",
      "Epoch 10/20\n",
      "150/150 [==============================] - 0s 221us/step - loss: 0.7074 - acc: 0.6933\n",
      "Epoch 11/20\n",
      "150/150 [==============================] - 0s 216us/step - loss: 0.6892 - acc: 0.6867\n",
      "Epoch 12/20\n",
      "150/150 [==============================] - 0s 205us/step - loss: 0.6758 - acc: 0.6933\n",
      "Epoch 13/20\n",
      "150/150 [==============================] - 0s 194us/step - loss: 0.6612 - acc: 0.7267\n",
      "Epoch 14/20\n",
      "150/150 [==============================] - 0s 224us/step - loss: 0.6480 - acc: 0.7200\n",
      "Epoch 15/20\n",
      "150/150 [==============================] - 0s 219us/step - loss: 0.6373 - acc: 0.7000\n",
      "Epoch 16/20\n",
      "150/150 [==============================] - 0s 255us/step - loss: 0.6275 - acc: 0.7200\n",
      "Epoch 17/20\n",
      "150/150 [==============================] - 0s 224us/step - loss: 0.6135 - acc: 0.7133\n",
      "Epoch 18/20\n",
      "150/150 [==============================] - 0s 333us/step - loss: 0.6030 - acc: 0.7800\n",
      "Epoch 19/20\n",
      "150/150 [==============================] - 0s 318us/step - loss: 0.5949 - acc: 0.7400\n",
      "Epoch 20/20\n",
      "150/150 [==============================] - 0s 236us/step - loss: 0.5858 - acc: 0.7600\n"
     ]
    },
    {
     "data": {
      "text/plain": [
       "<keras.callbacks.History at 0x1a37d5ba58>"
      ]
     },
     "execution_count": 22,
     "metadata": {},
     "output_type": "execute_result"
    }
   ],
   "source": [
    "#モデルの設定\n",
    "model = Sequential()\n",
    "model.add(Dense(3, input_dim=4))\n",
    "model.add(Activation('relu'))\n",
    "model.compile(optimizer='SGD',loss='sparse_categorical_crossentropy',metrics=['accuracy'])\n",
    "model.fit(features, targets, nb_epoch=20, batch_size=5)"
   ]
  },
  {
   "cell_type": "code",
   "execution_count": 23,
   "metadata": {},
   "outputs": [
    {
     "data": {
      "text/plain": [
       "[array([[-0.5599638 , -0.39195663, -0.6654287 ],\n",
       "        [ 0.30723965, -0.34116715,  0.39544922],\n",
       "        [-0.4735231 , -0.59187007,  1.0976638 ],\n",
       "        [ 0.28427064,  0.38473403,  0.3770886 ]], dtype=float32),\n",
       " array([ 0.        ,  0.        , -0.04615001], dtype=float32),\n",
       " array([[ 0.08016467,  0.29940224, -0.23773599],\n",
       "        [-0.33884907, -0.9336932 ,  0.9046979 ],\n",
       "        [-0.9472477 ,  0.5577616 ,  0.97606945]], dtype=float32),\n",
       " array([ 0.80642265, -0.01709472, -0.78932756], dtype=float32)]"
      ]
     },
     "execution_count": 23,
     "metadata": {},
     "output_type": "execute_result"
    }
   ],
   "source": [
    "model.get_weights()"
   ]
  },
  {
   "cell_type": "code",
   "execution_count": null,
   "metadata": {},
   "outputs": [],
   "source": []
  }
 ],
 "metadata": {
  "kernelspec": {
   "display_name": "Python 3",
   "language": "python",
   "name": "python3"
  },
  "language_info": {
   "codemirror_mode": {
    "name": "ipython",
    "version": 3
   },
   "file_extension": ".py",
   "mimetype": "text/x-python",
   "name": "python",
   "nbconvert_exporter": "python",
   "pygments_lexer": "ipython3",
   "version": "3.7.3"
  }
 },
 "nbformat": 4,
 "nbformat_minor": 2
}
