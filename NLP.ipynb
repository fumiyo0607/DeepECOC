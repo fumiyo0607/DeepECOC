{
 "cells": [
  {
   "cell_type": "code",
   "execution_count": 50,
   "metadata": {},
   "outputs": [],
   "source": [
    "%matplotlib inline\n",
    "import matplotlib.pyplot as plt\n",
    "plt.style.use('ggplot')"
   ]
  },
  {
   "cell_type": "code",
   "execution_count": 51,
   "metadata": {},
   "outputs": [],
   "source": [
    "from sklearn import datasets\n",
    "iris = datasets.load_iris()\n",
    "features = iris.data\n",
    "targets = iris.target"
   ]
  },
  {
   "cell_type": "code",
   "execution_count": 3,
   "metadata": {},
   "outputs": [
    {
     "name": "stderr",
     "output_type": "stream",
     "text": [
      "Using TensorFlow backend.\n"
     ]
    }
   ],
   "source": [
    "#kerasに必要なものをインポート1\n",
    "from keras.models import Sequential\n",
    "from keras.layers import Dense, Activation\n",
    "import numpy as np"
   ]
  },
  {
   "cell_type": "code",
   "execution_count": 15,
   "metadata": {},
   "outputs": [],
   "source": [
    "from keras import backend as K\n",
    "import numpy as np"
   ]
  },
  {
   "cell_type": "code",
   "execution_count": 45,
   "metadata": {},
   "outputs": [],
   "source": [
    "from keras import backend as K\n",
    "import numpy as np\n"
   ]
  },
  {
   "cell_type": "code",
   "execution_count": 46,
   "metadata": {},
   "outputs": [],
   "source": [
    "my_init_1 =[\n",
    "    [\n",
    "        [-0.7884204 , -0.6338457 , -0.25281274],\n",
    "        [ 0.5329331 , -0.19831198, -0.12317081],\n",
    "        [-0.83381253, -0.07458979,  0.955629  ],\n",
    "        [-0.02403361,  0.02735829,  0.7528269 ]],\n",
    " [ 0.111        ,  0.21        , -0.16679405],\n",
    "]\n",
    "def my_init(shape, name=None):\n",
    "    value = my_init_1\n",
    "    print(value)\n",
    "    return K.variable(value, name=name)"
   ]
  },
  {
   "cell_type": "code",
   "execution_count": 49,
   "metadata": {},
   "outputs": [
    {
     "name": "stderr",
     "output_type": "stream",
     "text": [
      "/anaconda3/lib/python3.7/site-packages/ipykernel_launcher.py:7: UserWarning: The `nb_epoch` argument in `fit` has been renamed `epochs`.\n",
      "  import sys\n"
     ]
    },
    {
     "name": "stdout",
     "output_type": "stream",
     "text": [
      "Epoch 1/20\n",
      "150/150 [==============================] - 0s 1ms/step - loss: 5.8248 - acc: 0.6600\n",
      "Epoch 2/20\n",
      "150/150 [==============================] - 0s 204us/step - loss: 5.7389 - acc: 0.6667\n",
      "Epoch 3/20\n",
      "150/150 [==============================] - 0s 247us/step - loss: 5.7389 - acc: 0.6667\n",
      "Epoch 4/20\n",
      "150/150 [==============================] - 0s 270us/step - loss: 5.7389 - acc: 0.6667\n",
      "Epoch 5/20\n",
      "150/150 [==============================] - 0s 236us/step - loss: 5.7389 - acc: 0.6667\n",
      "Epoch 6/20\n",
      "150/150 [==============================] - 0s 273us/step - loss: 5.7389 - acc: 0.6667\n",
      "Epoch 7/20\n",
      "150/150 [==============================] - 0s 201us/step - loss: 5.7389 - acc: 0.6667\n",
      "Epoch 8/20\n",
      "150/150 [==============================] - 0s 201us/step - loss: 5.7389 - acc: 0.6667\n",
      "Epoch 9/20\n",
      "150/150 [==============================] - 0s 209us/step - loss: 5.7389 - acc: 0.6667\n",
      "Epoch 10/20\n",
      "150/150 [==============================] - 0s 191us/step - loss: 5.7389 - acc: 0.6667\n",
      "Epoch 11/20\n",
      "150/150 [==============================] - 0s 201us/step - loss: 5.7389 - acc: 0.6667\n",
      "Epoch 12/20\n",
      "150/150 [==============================] - 0s 216us/step - loss: 5.7389 - acc: 0.6667\n",
      "Epoch 13/20\n",
      "150/150 [==============================] - 0s 222us/step - loss: 5.7389 - acc: 0.6667\n",
      "Epoch 14/20\n",
      "150/150 [==============================] - 0s 208us/step - loss: 5.7389 - acc: 0.6667\n",
      "Epoch 15/20\n",
      "150/150 [==============================] - 0s 201us/step - loss: 5.7389 - acc: 0.6667\n",
      "Epoch 16/20\n",
      "150/150 [==============================] - 0s 208us/step - loss: 5.7389 - acc: 0.6667\n",
      "Epoch 17/20\n",
      "150/150 [==============================] - 0s 221us/step - loss: 5.7389 - acc: 0.6667\n",
      "Epoch 18/20\n",
      "150/150 [==============================] - 0s 209us/step - loss: 5.7389 - acc: 0.6667\n",
      "Epoch 19/20\n",
      "150/150 [==============================] - 0s 241us/step - loss: 5.7389 - acc: 0.6667\n",
      "Epoch 20/20\n",
      "150/150 [==============================] - 0s 241us/step - loss: 5.7389 - acc: 0.6667\n"
     ]
    },
    {
     "data": {
      "text/plain": [
       "<keras.callbacks.History at 0x1a31883780>"
      ]
     },
     "execution_count": 49,
     "metadata": {},
     "output_type": "execute_result"
    }
   ],
   "source": [
    "#モデルの設定\n",
    "model = Sequential()\n",
    "model.add(Dense(3, input_dim=4))\n",
    "model.set_weights(my_init_1)\n",
    "model.add(Activation('relu'))\n",
    "model.compile(optimizer='SGD',loss='sparse_categorical_crossentropy',metrics=['accuracy'])\n",
    "model.fit(features, targets, nb_epoch=20, batch_size=5)"
   ]
  },
  {
   "cell_type": "code",
   "execution_count": 42,
   "metadata": {},
   "outputs": [],
   "source": [
    "weights = model.get_weights()"
   ]
  },
  {
   "cell_type": "code",
   "execution_count": 43,
   "metadata": {},
   "outputs": [
    {
     "data": {
      "text/plain": [
       "[array([[-0.9073717 ,  0.19961119,  0.16099057],\n",
       "        [-0.20757133,  0.09129   , -0.67003703],\n",
       "        [ 0.201401  , -0.01325655,  0.9585144 ],\n",
       "        [-0.3045891 ,  0.38136852, -0.66023415]], dtype=float32),\n",
       " array([ 0.        ,  0.        , -0.09046279], dtype=float32)]"
      ]
     },
     "execution_count": 43,
     "metadata": {},
     "output_type": "execute_result"
    }
   ],
   "source": [
    "weights"
   ]
  },
  {
   "cell_type": "code",
   "execution_count": 27,
   "metadata": {},
   "outputs": [],
   "source": [
    "init = [[[-0.78313696, -0.30080432, -0.32794195],\n",
    "        [-0.49387553,  0.17015068, -0.95466715],\n",
    "        [-0.36913818, -0.8080421 ,  0.30085325],\n",
    "        [ 0.13317382, -0.06405984,  0.16347137]],\n",
    "        [ 0.        , -0.04650227, -0.09421051]\n",
    "       ]"
   ]
  },
  {
   "cell_type": "code",
   "execution_count": 28,
   "metadata": {},
   "outputs": [],
   "source": [
    "def my_init(shape, name=None):\n",
    "    value = np.random.random(shape)\n",
    "    return K.variable(value, name=name)"
   ]
  },
  {
   "cell_type": "code",
   "execution_count": 17,
   "metadata": {},
   "outputs": [
    {
     "data": {
      "text/plain": [
       "<function __main__.my_init(shape, name=None)>"
      ]
     },
     "execution_count": 17,
     "metadata": {},
     "output_type": "execute_result"
    }
   ],
   "source": [
    "my_init"
   ]
  },
  {
   "cell_type": "code",
   "execution_count": null,
   "metadata": {},
   "outputs": [],
   "source": []
  }
 ],
 "metadata": {
  "kernelspec": {
   "display_name": "Python 3",
   "language": "python",
   "name": "python3"
  },
  "language_info": {
   "codemirror_mode": {
    "name": "ipython",
    "version": 3
   },
   "file_extension": ".py",
   "mimetype": "text/x-python",
   "name": "python",
   "nbconvert_exporter": "python",
   "pygments_lexer": "ipython3",
   "version": "3.7.3"
  }
 },
 "nbformat": 4,
 "nbformat_minor": 2
}
