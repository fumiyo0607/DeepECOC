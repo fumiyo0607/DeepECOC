{
 "cells": [
  {
   "cell_type": "code",
   "execution_count": 1,
   "metadata": {},
   "outputs": [],
   "source": [
    "%matplotlib inline\n",
    "import matplotlib.pyplot as plt\n",
    "plt.style.use('ggplot')"
   ]
  },
  {
   "cell_type": "code",
   "execution_count": 4,
   "metadata": {},
   "outputs": [],
   "source": [
    "from sklearn import datasets\n",
    "iris = datasets.load_iris()\n",
    "features = iris.data\n",
    "targets = iris.target"
   ]
  },
  {
   "cell_type": "code",
   "execution_count": 5,
   "metadata": {},
   "outputs": [
    {
     "data": {
      "text/plain": [
       "array([[5.1, 3.5, 1.4, 0.2],\n",
       "       [4.9, 3. , 1.4, 0.2],\n",
       "       [4.7, 3.2, 1.3, 0.2],\n",
       "       [4.6, 3.1, 1.5, 0.2],\n",
       "       [5. , 3.6, 1.4, 0.2],\n",
       "       [5.4, 3.9, 1.7, 0.4],\n",
       "       [4.6, 3.4, 1.4, 0.3],\n",
       "       [5. , 3.4, 1.5, 0.2],\n",
       "       [4.4, 2.9, 1.4, 0.2],\n",
       "       [4.9, 3.1, 1.5, 0.1],\n",
       "       [5.4, 3.7, 1.5, 0.2],\n",
       "       [4.8, 3.4, 1.6, 0.2],\n",
       "       [4.8, 3. , 1.4, 0.1],\n",
       "       [4.3, 3. , 1.1, 0.1],\n",
       "       [5.8, 4. , 1.2, 0.2],\n",
       "       [5.7, 4.4, 1.5, 0.4],\n",
       "       [5.4, 3.9, 1.3, 0.4],\n",
       "       [5.1, 3.5, 1.4, 0.3],\n",
       "       [5.7, 3.8, 1.7, 0.3],\n",
       "       [5.1, 3.8, 1.5, 0.3],\n",
       "       [5.4, 3.4, 1.7, 0.2],\n",
       "       [5.1, 3.7, 1.5, 0.4],\n",
       "       [4.6, 3.6, 1. , 0.2],\n",
       "       [5.1, 3.3, 1.7, 0.5],\n",
       "       [4.8, 3.4, 1.9, 0.2],\n",
       "       [5. , 3. , 1.6, 0.2],\n",
       "       [5. , 3.4, 1.6, 0.4],\n",
       "       [5.2, 3.5, 1.5, 0.2],\n",
       "       [5.2, 3.4, 1.4, 0.2],\n",
       "       [4.7, 3.2, 1.6, 0.2],\n",
       "       [4.8, 3.1, 1.6, 0.2],\n",
       "       [5.4, 3.4, 1.5, 0.4],\n",
       "       [5.2, 4.1, 1.5, 0.1],\n",
       "       [5.5, 4.2, 1.4, 0.2],\n",
       "       [4.9, 3.1, 1.5, 0.2],\n",
       "       [5. , 3.2, 1.2, 0.2],\n",
       "       [5.5, 3.5, 1.3, 0.2],\n",
       "       [4.9, 3.6, 1.4, 0.1],\n",
       "       [4.4, 3. , 1.3, 0.2],\n",
       "       [5.1, 3.4, 1.5, 0.2],\n",
       "       [5. , 3.5, 1.3, 0.3],\n",
       "       [4.5, 2.3, 1.3, 0.3],\n",
       "       [4.4, 3.2, 1.3, 0.2],\n",
       "       [5. , 3.5, 1.6, 0.6],\n",
       "       [5.1, 3.8, 1.9, 0.4],\n",
       "       [4.8, 3. , 1.4, 0.3],\n",
       "       [5.1, 3.8, 1.6, 0.2],\n",
       "       [4.6, 3.2, 1.4, 0.2],\n",
       "       [5.3, 3.7, 1.5, 0.2],\n",
       "       [5. , 3.3, 1.4, 0.2],\n",
       "       [7. , 3.2, 4.7, 1.4],\n",
       "       [6.4, 3.2, 4.5, 1.5],\n",
       "       [6.9, 3.1, 4.9, 1.5],\n",
       "       [5.5, 2.3, 4. , 1.3],\n",
       "       [6.5, 2.8, 4.6, 1.5],\n",
       "       [5.7, 2.8, 4.5, 1.3],\n",
       "       [6.3, 3.3, 4.7, 1.6],\n",
       "       [4.9, 2.4, 3.3, 1. ],\n",
       "       [6.6, 2.9, 4.6, 1.3],\n",
       "       [5.2, 2.7, 3.9, 1.4],\n",
       "       [5. , 2. , 3.5, 1. ],\n",
       "       [5.9, 3. , 4.2, 1.5],\n",
       "       [6. , 2.2, 4. , 1. ],\n",
       "       [6.1, 2.9, 4.7, 1.4],\n",
       "       [5.6, 2.9, 3.6, 1.3],\n",
       "       [6.7, 3.1, 4.4, 1.4],\n",
       "       [5.6, 3. , 4.5, 1.5],\n",
       "       [5.8, 2.7, 4.1, 1. ],\n",
       "       [6.2, 2.2, 4.5, 1.5],\n",
       "       [5.6, 2.5, 3.9, 1.1],\n",
       "       [5.9, 3.2, 4.8, 1.8],\n",
       "       [6.1, 2.8, 4. , 1.3],\n",
       "       [6.3, 2.5, 4.9, 1.5],\n",
       "       [6.1, 2.8, 4.7, 1.2],\n",
       "       [6.4, 2.9, 4.3, 1.3],\n",
       "       [6.6, 3. , 4.4, 1.4],\n",
       "       [6.8, 2.8, 4.8, 1.4],\n",
       "       [6.7, 3. , 5. , 1.7],\n",
       "       [6. , 2.9, 4.5, 1.5],\n",
       "       [5.7, 2.6, 3.5, 1. ],\n",
       "       [5.5, 2.4, 3.8, 1.1],\n",
       "       [5.5, 2.4, 3.7, 1. ],\n",
       "       [5.8, 2.7, 3.9, 1.2],\n",
       "       [6. , 2.7, 5.1, 1.6],\n",
       "       [5.4, 3. , 4.5, 1.5],\n",
       "       [6. , 3.4, 4.5, 1.6],\n",
       "       [6.7, 3.1, 4.7, 1.5],\n",
       "       [6.3, 2.3, 4.4, 1.3],\n",
       "       [5.6, 3. , 4.1, 1.3],\n",
       "       [5.5, 2.5, 4. , 1.3],\n",
       "       [5.5, 2.6, 4.4, 1.2],\n",
       "       [6.1, 3. , 4.6, 1.4],\n",
       "       [5.8, 2.6, 4. , 1.2],\n",
       "       [5. , 2.3, 3.3, 1. ],\n",
       "       [5.6, 2.7, 4.2, 1.3],\n",
       "       [5.7, 3. , 4.2, 1.2],\n",
       "       [5.7, 2.9, 4.2, 1.3],\n",
       "       [6.2, 2.9, 4.3, 1.3],\n",
       "       [5.1, 2.5, 3. , 1.1],\n",
       "       [5.7, 2.8, 4.1, 1.3],\n",
       "       [6.3, 3.3, 6. , 2.5],\n",
       "       [5.8, 2.7, 5.1, 1.9],\n",
       "       [7.1, 3. , 5.9, 2.1],\n",
       "       [6.3, 2.9, 5.6, 1.8],\n",
       "       [6.5, 3. , 5.8, 2.2],\n",
       "       [7.6, 3. , 6.6, 2.1],\n",
       "       [4.9, 2.5, 4.5, 1.7],\n",
       "       [7.3, 2.9, 6.3, 1.8],\n",
       "       [6.7, 2.5, 5.8, 1.8],\n",
       "       [7.2, 3.6, 6.1, 2.5],\n",
       "       [6.5, 3.2, 5.1, 2. ],\n",
       "       [6.4, 2.7, 5.3, 1.9],\n",
       "       [6.8, 3. , 5.5, 2.1],\n",
       "       [5.7, 2.5, 5. , 2. ],\n",
       "       [5.8, 2.8, 5.1, 2.4],\n",
       "       [6.4, 3.2, 5.3, 2.3],\n",
       "       [6.5, 3. , 5.5, 1.8],\n",
       "       [7.7, 3.8, 6.7, 2.2],\n",
       "       [7.7, 2.6, 6.9, 2.3],\n",
       "       [6. , 2.2, 5. , 1.5],\n",
       "       [6.9, 3.2, 5.7, 2.3],\n",
       "       [5.6, 2.8, 4.9, 2. ],\n",
       "       [7.7, 2.8, 6.7, 2. ],\n",
       "       [6.3, 2.7, 4.9, 1.8],\n",
       "       [6.7, 3.3, 5.7, 2.1],\n",
       "       [7.2, 3.2, 6. , 1.8],\n",
       "       [6.2, 2.8, 4.8, 1.8],\n",
       "       [6.1, 3. , 4.9, 1.8],\n",
       "       [6.4, 2.8, 5.6, 2.1],\n",
       "       [7.2, 3. , 5.8, 1.6],\n",
       "       [7.4, 2.8, 6.1, 1.9],\n",
       "       [7.9, 3.8, 6.4, 2. ],\n",
       "       [6.4, 2.8, 5.6, 2.2],\n",
       "       [6.3, 2.8, 5.1, 1.5],\n",
       "       [6.1, 2.6, 5.6, 1.4],\n",
       "       [7.7, 3. , 6.1, 2.3],\n",
       "       [6.3, 3.4, 5.6, 2.4],\n",
       "       [6.4, 3.1, 5.5, 1.8],\n",
       "       [6. , 3. , 4.8, 1.8],\n",
       "       [6.9, 3.1, 5.4, 2.1],\n",
       "       [6.7, 3.1, 5.6, 2.4],\n",
       "       [6.9, 3.1, 5.1, 2.3],\n",
       "       [5.8, 2.7, 5.1, 1.9],\n",
       "       [6.8, 3.2, 5.9, 2.3],\n",
       "       [6.7, 3.3, 5.7, 2.5],\n",
       "       [6.7, 3. , 5.2, 2.3],\n",
       "       [6.3, 2.5, 5. , 1.9],\n",
       "       [6.5, 3. , 5.2, 2. ],\n",
       "       [6.2, 3.4, 5.4, 2.3],\n",
       "       [5.9, 3. , 5.1, 1.8]])"
      ]
     },
     "execution_count": 5,
     "metadata": {},
     "output_type": "execute_result"
    }
   ],
   "source": [
    "features"
   ]
  },
  {
   "cell_type": "code",
   "execution_count": 6,
   "metadata": {},
   "outputs": [
    {
     "data": {
      "text/plain": [
       "array([0, 0, 0, 0, 0, 0, 0, 0, 0, 0, 0, 0, 0, 0, 0, 0, 0, 0, 0, 0, 0, 0,\n",
       "       0, 0, 0, 0, 0, 0, 0, 0, 0, 0, 0, 0, 0, 0, 0, 0, 0, 0, 0, 0, 0, 0,\n",
       "       0, 0, 0, 0, 0, 0, 1, 1, 1, 1, 1, 1, 1, 1, 1, 1, 1, 1, 1, 1, 1, 1,\n",
       "       1, 1, 1, 1, 1, 1, 1, 1, 1, 1, 1, 1, 1, 1, 1, 1, 1, 1, 1, 1, 1, 1,\n",
       "       1, 1, 1, 1, 1, 1, 1, 1, 1, 1, 1, 1, 2, 2, 2, 2, 2, 2, 2, 2, 2, 2,\n",
       "       2, 2, 2, 2, 2, 2, 2, 2, 2, 2, 2, 2, 2, 2, 2, 2, 2, 2, 2, 2, 2, 2,\n",
       "       2, 2, 2, 2, 2, 2, 2, 2, 2, 2, 2, 2, 2, 2, 2, 2, 2, 2])"
      ]
     },
     "execution_count": 6,
     "metadata": {},
     "output_type": "execute_result"
    }
   ],
   "source": [
    "targets"
   ]
  },
  {
   "cell_type": "code",
   "execution_count": 7,
   "metadata": {},
   "outputs": [
    {
     "data": {
      "text/plain": [
       "(150, 4)"
      ]
     },
     "execution_count": 7,
     "metadata": {},
     "output_type": "execute_result"
    }
   ],
   "source": [
    "features.shape"
   ]
  },
  {
   "cell_type": "code",
   "execution_count": 8,
   "metadata": {},
   "outputs": [
    {
     "data": {
      "text/plain": [
       "<matplotlib.collections.PathCollection at 0x1a18ebd160>"
      ]
     },
     "execution_count": 8,
     "metadata": {},
     "output_type": "execute_result"
    },
    {
     "data": {
      "image/png": "[encoded data removed]",
      "text/plain": [
       "<Figure size 432x288 with 1 Axes>"
      ]
     },
     "metadata": {
      "needs_background": "light"
     },
     "output_type": "display_data"
    }
   ],
   "source": [
    "plt.scatter(features[:, 0], features[:, 1], c=targets)"
   ]
  },
  {
   "cell_type": "code",
   "execution_count": 9,
   "metadata": {},
   "outputs": [
    {
     "name": "stderr",
     "output_type": "stream",
     "text": [
      "Using TensorFlow backend.\n"
     ]
    }
   ],
   "source": [
    "from keras.models import Sequential\n",
    "from keras.layers import Dense, Activation\n",
    "import numpy as np"
   ]
  },
  {
   "cell_type": "code",
   "execution_count": 14,
   "metadata": {},
   "outputs": [
    {
     "name": "stderr",
     "output_type": "stream",
     "text": [
      "/Users/imaikotaro/anaconda3/lib/python3.7/site-packages/ipykernel_launcher.py:7: UserWarning: The `nb_epoch` argument in `fit` has been renamed `epochs`.\n",
      "  import sys\n"
     ]
    },
    {
     "name": "stdout",
     "output_type": "stream",
     "text": [
      "Epoch 1/20\n",
      "150/150 [==============================] - 0s 2ms/step - loss: 1.2342 - acc: 0.3067\n",
      "Epoch 2/20\n",
      "150/150 [==============================] - 0s 198us/step - loss: 1.0019 - acc: 0.4467\n",
      "Epoch 3/20\n",
      "150/150 [==============================] - 0s 177us/step - loss: 0.9452 - acc: 0.5200\n",
      "Epoch 4/20\n",
      "150/150 [==============================] - 0s 253us/step - loss: 0.8447 - acc: 0.6200\n",
      "Epoch 5/20\n",
      "150/150 [==============================] - 0s 190us/step - loss: 0.7564 - acc: 0.7933\n",
      "Epoch 6/20\n",
      "150/150 [==============================] - 0s 177us/step - loss: 0.6867 - acc: 0.8000\n",
      "Epoch 7/20\n",
      "150/150 [==============================] - 0s 199us/step - loss: 0.6125 - acc: 0.8200\n",
      "Epoch 8/20\n",
      "150/150 [==============================] - 0s 277us/step - loss: 0.5396 - acc: 0.8667\n",
      "Epoch 9/20\n",
      "150/150 [==============================] - 0s 192us/step - loss: 0.4874 - acc: 0.8933\n",
      "Epoch 10/20\n",
      "150/150 [==============================] - 0s 170us/step - loss: 0.4444 - acc: 0.9067\n",
      "Epoch 11/20\n",
      "150/150 [==============================] - 0s 203us/step - loss: 0.4009 - acc: 0.9267\n",
      "Epoch 12/20\n",
      "150/150 [==============================] - 0s 185us/step - loss: 0.3798 - acc: 0.9333\n",
      "Epoch 13/20\n",
      "150/150 [==============================] - 0s 266us/step - loss: 0.3584 - acc: 0.9133\n",
      "Epoch 14/20\n",
      "150/150 [==============================] - 0s 291us/step - loss: 0.3373 - acc: 0.9400\n",
      "Epoch 15/20\n",
      "150/150 [==============================] - 0s 191us/step - loss: 0.3094 - acc: 0.9467\n",
      "Epoch 16/20\n",
      "150/150 [==============================] - 0s 187us/step - loss: 0.2973 - acc: 0.9600\n",
      "Epoch 17/20\n",
      "150/150 [==============================] - 0s 177us/step - loss: 0.2873 - acc: 0.9667\n",
      "Epoch 18/20\n",
      "150/150 [==============================] - 0s 232us/step - loss: 0.2819 - acc: 0.9333\n",
      "Epoch 19/20\n",
      "150/150 [==============================] - 0s 204us/step - loss: 0.2637 - acc: 0.9733\n",
      "Epoch 20/20\n",
      "150/150 [==============================] - 0s 228us/step - loss: 0.2594 - acc: 0.9467\n"
     ]
    },
    {
     "data": {
      "text/plain": [
       "<keras.callbacks.History at 0x112be1358>"
      ]
     },
     "execution_count": 14,
     "metadata": {},
     "output_type": "execute_result"
    }
   ],
   "source": [
    "model = Sequential()\n",
    "model.add(Dense(12, input_dim=4))\n",
    "model.add(Activation('relu'))\n",
    "model.add(Dense(3, input_dim=12))\n",
    "model.add(Activation('softmax')) \n",
    "model.compile(optimizer='SGD',loss='sparse_categorical_crossentropy',metrics=['accuracy'])\n",
    "model.fit(features, targets, nb_epoch=20, batch_size=5)"
   ]
  },
  {
   "cell_type": "code",
   "execution_count": 15,
   "metadata": {},
   "outputs": [
    {
     "data": {
      "text/plain": [
       "[array([[ 0.00344206,  0.40722984,  0.07449473, -0.42049184, -0.16170484,\n",
       "         -0.6101871 ,  0.02068036,  0.13542686,  0.8297572 ,  0.12735093,\n",
       "         -0.30865014,  0.25518942],\n",
       "        [-0.40990156, -0.04436484,  0.5442837 , -0.47053236, -0.30840033,\n",
       "          0.4325115 , -0.6622718 , -0.04050412,  0.7780924 , -0.30585656,\n",
       "         -0.40128908,  0.26849943],\n",
       "        [ 0.32892925,  0.72548693, -0.2809243 , -0.29024658, -0.46340096,\n",
       "         -0.60144866,  0.3837099 , -0.44364637, -0.8697276 , -0.07900625,\n",
       "          0.323079  , -0.14498399],\n",
       "        [-0.57024586,  0.0598266 , -0.6894099 ,  0.5340467 ,  0.50589114,\n",
       "         -0.03719258, -0.4639659 , -0.45394632, -0.98493874, -0.142685  ,\n",
       "          0.4641518 , -0.33304343]], dtype=float32),\n",
       " array([-0.0080433 , -0.09074134,  0.0311844 ,  0.        ,  0.        ,\n",
       "         0.        , -0.0294959 , -0.02654009,  0.15851407,  0.        ,\n",
       "         0.        , -0.05078343], dtype=float32),\n",
       " array([[ 0.09312094,  0.03587817, -0.28600237],\n",
       "        [-0.697866  ,  0.14268713,  0.5377568 ],\n",
       "        [ 0.14619331, -0.91278553,  0.15523635],\n",
       "        [ 0.05882871, -0.1996127 ,  0.437308  ],\n",
       "        [-0.07962525, -0.07455981,  0.16328913],\n",
       "        [ 0.19414377, -0.5092792 ,  0.3338012 ],\n",
       "        [ 0.49680048, -0.07199882, -0.20652805],\n",
       "        [ 0.0486999 ,  0.60131496,  0.29893473],\n",
       "        [ 0.9926563 ,  0.39193624, -1.2547286 ],\n",
       "        [-0.15384126, -0.15621153, -0.39463827],\n",
       "        [ 0.5448678 , -0.5664569 , -0.0172596 ],\n",
       "        [ 0.07132395, -0.25458968, -0.01238314]], dtype=float32),\n",
       " array([ 0.02639224,  0.09721748, -0.12360981], dtype=float32)]"
      ]
     },
     "execution_count": 15,
     "metadata": {},
     "output_type": "execute_result"
    }
   ],
   "source": [
    "model.get_weights()"
   ]
  },
  {
   "cell_type": "code",
   "execution_count": 11,
   "metadata": {},
   "outputs": [
    {
     "name": "stdout",
     "output_type": "stream",
     "text": [
      "150/150 [==============================] - 0s 113us/step\n"
     ]
    },
    {
     "data": {
      "text/plain": [
       "array([[9.57126200e-01, 4.21957038e-02, 6.78065175e-04],\n",
       "       [9.27491128e-01, 7.10139796e-02, 1.49496295e-03],\n",
       "       [9.45944667e-01, 5.28991036e-02, 1.15621684e-03],\n",
       "       [9.23456609e-01, 7.44718164e-02, 2.07157154e-03],\n",
       "       [9.56690729e-01, 4.25707698e-02, 7.38413248e-04],\n",
       "       [9.58396435e-01, 4.09664661e-02, 6.37171383e-04],\n",
       "       [9.43932712e-01, 5.46656549e-02, 1.40157761e-03],\n",
       "       [9.49907243e-01, 4.91716824e-02, 9.21035011e-04],\n",
       "       [9.13043201e-01, 8.42720568e-02, 2.68468889e-03],\n",
       "       [9.33085144e-01, 6.55482635e-02, 1.36660365e-03],\n",
       "       [9.63656962e-01, 3.58792916e-02, 4.63773060e-04],\n",
       "       [9.40638959e-01, 5.79928942e-02, 1.36816921e-03],\n",
       "       [9.33622956e-01, 6.49817064e-02, 1.39533437e-03],\n",
       "       [9.37296212e-01, 6.10558875e-02, 1.64784945e-03],\n",
       "       [9.72082257e-01, 2.76957937e-02, 2.21888811e-04],\n",
       "       [9.70987976e-01, 2.87103560e-02, 3.01593245e-04],\n",
       "       [9.62943137e-01, 3.65896299e-02, 4.67159145e-04],\n",
       "       [9.55098569e-01, 4.41593677e-02, 7.42023345e-04],\n",
       "       [9.58712101e-01, 4.07983661e-02, 4.89648432e-04],\n",
       "       [9.58449960e-01, 4.08463776e-02, 7.03756348e-04],\n",
       "       [9.35884535e-01, 6.31030202e-02, 1.01243134e-03],\n",
       "       [9.55218196e-01, 4.39840108e-02, 7.97784713e-04],\n",
       "       [9.50897098e-01, 4.81100902e-02, 9.92795103e-04],\n",
       "       [8.99229705e-01, 9.83401462e-02, 2.43010325e-03],\n",
       "       [9.08588827e-01, 8.87752622e-02, 2.63590110e-03],\n",
       "       [9.04722333e-01, 9.31610614e-02, 2.11663451e-03],\n",
       "       [9.29109812e-01, 6.93183616e-02, 1.57185365e-03],\n",
       "       [9.56911743e-01, 4.24266048e-02, 6.61676575e-04],\n",
       "       [9.57553685e-01, 4.18236256e-02, 6.22644729e-04],\n",
       "       [9.22855735e-01, 7.51155764e-02, 2.02876492e-03],\n",
       "       [9.13735390e-01, 8.40994492e-02, 2.16510007e-03],\n",
       "       [9.41383362e-01, 5.77256493e-02, 8.90871626e-04],\n",
       "       [9.66593325e-01, 3.29386443e-02, 4.68041340e-04],\n",
       "       [9.69981551e-01, 2.96921469e-02, 3.26338370e-04],\n",
       "       [9.26071346e-01, 7.23318011e-02, 1.59685989e-03],\n",
       "       [9.52245235e-01, 4.69898768e-02, 7.64861179e-04],\n",
       "       [9.63555455e-01, 3.60475481e-02, 3.96963733e-04],\n",
       "       [9.57015157e-01, 4.22236919e-02, 7.61146424e-04],\n",
       "       [9.33486760e-01, 6.46600872e-02, 1.85317243e-03],\n",
       "       [9.50476408e-01, 4.86793593e-02, 8.44207359e-04],\n",
       "       [9.53711629e-01, 4.54943813e-02, 7.93965708e-04],\n",
       "       [8.32798839e-01, 1.61633268e-01, 5.56787243e-03],\n",
       "       [9.39282715e-01, 5.90607002e-02, 1.65666954e-03],\n",
       "       [9.23624396e-01, 7.45348632e-02, 1.84075336e-03],\n",
       "       [9.34425235e-01, 6.40679449e-02, 1.50681636e-03],\n",
       "       [9.19021964e-01, 7.90742412e-02, 1.90385722e-03],\n",
       "       [9.60004449e-01, 3.93177643e-02, 6.77848293e-04],\n",
       "       [9.41587448e-01, 5.69864996e-02, 1.42609654e-03],\n",
       "       [9.62222874e-01, 3.72537859e-02, 5.23295894e-04],\n",
       "       [9.50886548e-01, 4.82516326e-02, 8.61831591e-04],\n",
       "       [3.32354903e-02, 8.80286753e-01, 8.64778683e-02],\n",
       "       [3.78601775e-02, 8.22822273e-01, 1.39317483e-01],\n",
       "       [1.94370057e-02, 8.43608439e-01, 1.36954591e-01],\n",
       "       [2.61928234e-02, 7.40851700e-01, 2.32955515e-01],\n",
       "       [1.95419826e-02, 8.12607467e-01, 1.67850554e-01],\n",
       "       [2.40901485e-02, 6.89588189e-01, 2.86321610e-01],\n",
       "       [2.86302939e-02, 7.47097790e-01, 2.24271998e-01],\n",
       "       [1.04032993e-01, 7.65771210e-01, 1.30195782e-01],\n",
       "       [2.71047819e-02, 8.62794876e-01, 1.10100277e-01],\n",
       "       [4.39749435e-02, 6.81900263e-01, 2.74124861e-01],\n",
       "       [4.70067710e-02, 7.86170900e-01, 1.66822284e-01],\n",
       "       [4.27379459e-02, 7.73256600e-01, 1.84005454e-01],\n",
       "       [3.40768695e-02, 8.53239834e-01, 1.12683281e-01],\n",
       "       [1.97436456e-02, 7.23178148e-01, 2.57078260e-01],\n",
       "       [1.04072779e-01, 7.94193029e-01, 1.01734288e-01],\n",
       "       [4.40163910e-02, 8.68085086e-01, 8.78984779e-02],\n",
       "       [2.41396055e-02, 6.11790955e-01, 3.64069372e-01],\n",
       "       [5.40762730e-02, 8.26992869e-01, 1.18930861e-01],\n",
       "       [9.58470441e-03, 7.28635192e-01, 2.61780173e-01],\n",
       "       [4.90486771e-02, 8.18703651e-01, 1.32247642e-01],\n",
       "       [1.40555743e-02, 5.19653022e-01, 4.66291398e-01],\n",
       "       [5.51238842e-02, 8.42198670e-01, 1.02677442e-01],\n",
       "       [7.57957995e-03, 6.56005263e-01, 3.36415172e-01],\n",
       "       [2.13686991e-02, 7.68173873e-01, 2.10457444e-01],\n",
       "       [4.17611487e-02, 8.56884003e-01, 1.01354830e-01],\n",
       "       [3.79553996e-02, 8.64686012e-01, 9.73585919e-02],\n",
       "       [1.64774172e-02, 8.49580884e-01, 1.33941665e-01],\n",
       "       [1.15001043e-02, 7.25408018e-01, 2.63091892e-01],\n",
       "       [2.38949489e-02, 7.24064052e-01, 2.52040982e-01],\n",
       "       [1.14365757e-01, 8.04420590e-01, 8.12136158e-02],\n",
       "       [4.92873229e-02, 8.15105975e-01, 1.35606676e-01],\n",
       "       [6.40437603e-02, 8.17058504e-01, 1.18897706e-01],\n",
       "       [5.94102293e-02, 8.26287508e-01, 1.14302285e-01],\n",
       "       [5.16187865e-03, 4.60209817e-01, 5.34628332e-01],\n",
       "       [2.20365860e-02, 5.44453859e-01, 4.33509558e-01],\n",
       "       [4.20897268e-02, 7.24480152e-01, 2.33430177e-01],\n",
       "       [2.55459659e-02, 8.41679811e-01, 1.32774204e-01],\n",
       "       [1.60634760e-02, 8.29610288e-01, 1.54326186e-01],\n",
       "       [5.76715097e-02, 7.65506506e-01, 1.76821962e-01],\n",
       "       [3.42604443e-02, 7.50532150e-01, 2.15207413e-01],\n",
       "       [2.28782650e-02, 6.76026046e-01, 3.01095635e-01],\n",
       "       [2.65430454e-02, 7.55034566e-01, 2.18422383e-01],\n",
       "       [4.46784496e-02, 8.28004360e-01, 1.27317205e-01],\n",
       "       [9.36996788e-02, 7.79907107e-01, 1.26393273e-01],\n",
       "       [3.34035046e-02, 7.37147808e-01, 2.29448661e-01],\n",
       "       [5.55406958e-02, 7.86377549e-01, 1.58081755e-01],\n",
       "       [4.43289317e-02, 7.67369747e-01, 1.88301310e-01],\n",
       "       [4.03013341e-02, 8.42543304e-01, 1.17155336e-01],\n",
       "       [1.68067768e-01, 7.43390977e-01, 8.85412842e-02],\n",
       "       [4.51292358e-02, 7.83333123e-01, 1.71537668e-01],\n",
       "       [3.69858462e-04, 9.48401615e-02, 9.04789925e-01],\n",
       "       [2.66075064e-03, 2.88091898e-01, 7.09247351e-01],\n",
       "       [1.41270831e-03, 3.87374312e-01, 6.11212969e-01],\n",
       "       [2.09458056e-03, 3.25129807e-01, 6.72775567e-01],\n",
       "       [8.71203374e-04, 2.10148290e-01, 7.88980484e-01],\n",
       "       [4.27446706e-04, 2.99783647e-01, 6.99788928e-01],\n",
       "       [5.12060523e-03, 2.60347426e-01, 7.34531999e-01],\n",
       "       [9.52753762e-04, 4.03114200e-01, 5.95933020e-01],\n",
       "       [9.80486744e-04, 3.42838734e-01, 6.56180859e-01],\n",
       "       [1.23892236e-03, 2.75174707e-01, 7.23586321e-01],\n",
       "       [8.09496827e-03, 5.44273138e-01, 4.47631866e-01],\n",
       "       [2.75120186e-03, 4.12902892e-01, 5.84345877e-01],\n",
       "       [2.72357161e-03, 4.35884058e-01, 5.61392367e-01],\n",
       "       [1.85659667e-03, 2.43324086e-01, 7.54819274e-01],\n",
       "       [1.19937083e-03, 1.64835826e-01, 8.33964765e-01],\n",
       "       [3.05294385e-03, 3.24233651e-01, 6.72713459e-01],\n",
       "       [3.56784486e-03, 4.41184163e-01, 5.55247903e-01],\n",
       "       [1.10185600e-03, 3.43411446e-01, 6.55486703e-01],\n",
       "       [7.92000501e-05, 1.58013597e-01, 8.41907144e-01],\n",
       "       [3.47664743e-03, 4.81519163e-01, 5.15004158e-01],\n",
       "       [1.84419483e-03, 3.44229370e-01, 6.53926492e-01],\n",
       "       [3.49540729e-03, 2.72059023e-01, 7.24445581e-01],\n",
       "       [3.20644438e-04, 3.09709162e-01, 6.89970195e-01],\n",
       "       [6.83252234e-03, 5.70564568e-01, 4.22602922e-01],\n",
       "       [2.58798362e-03, 3.57962608e-01, 6.39449418e-01],\n",
       "       [2.65262811e-03, 5.19027412e-01, 4.78319973e-01],\n",
       "       [9.11782309e-03, 5.83828211e-01, 4.07053977e-01],\n",
       "       [9.58077237e-03, 5.31630039e-01, 4.58789229e-01],\n",
       "       [1.13144040e-03, 2.51790851e-01, 7.47077703e-01],\n",
       "       [3.80669325e-03, 6.46815777e-01, 3.49377543e-01],\n",
       "       [1.14782923e-03, 4.68294859e-01, 5.30557334e-01],\n",
       "       [3.18430271e-03, 6.04214013e-01, 3.92601669e-01],\n",
       "       [9.35788266e-04, 2.24077091e-01, 7.74987161e-01],\n",
       "       [8.10741354e-03, 6.14208579e-01, 3.77683997e-01],\n",
       "       [2.21315492e-03, 3.66546035e-01, 6.31240785e-01],\n",
       "       [1.01691030e-03, 4.47488546e-01, 5.51494598e-01],\n",
       "       [1.53284555e-03, 1.94937602e-01, 8.03529501e-01],\n",
       "       [3.87868099e-03, 4.16757226e-01, 5.79364061e-01],\n",
       "       [1.10528581e-02, 5.34367800e-01, 4.54579353e-01],\n",
       "       [4.15039714e-03, 5.22453487e-01, 4.73396093e-01],\n",
       "       [1.39584823e-03, 2.74035156e-01, 7.24569023e-01],\n",
       "       [5.63528156e-03, 5.64352155e-01, 4.30012584e-01],\n",
       "       [2.66075064e-03, 2.88091898e-01, 7.09247351e-01],\n",
       "       [1.04845979e-03, 2.48139590e-01, 7.50811934e-01],\n",
       "       [1.25332782e-03, 2.32373595e-01, 7.66373098e-01],\n",
       "       [3.51858349e-03, 4.42332327e-01, 5.54149091e-01],\n",
       "       [3.59025365e-03, 4.72007334e-01, 5.24402380e-01],\n",
       "       [4.91423300e-03, 4.83443439e-01, 5.11642337e-01],\n",
       "       [2.76388577e-03, 2.51157701e-01, 7.46078432e-01],\n",
       "       [5.52733568e-03, 3.83972198e-01, 6.10500455e-01]], dtype=float32)"
      ]
     },
     "execution_count": 11,
     "metadata": {},
     "output_type": "execute_result"
    }
   ],
   "source": [
    "model.predict(features, batch_size=10, verbose=1)"
   ]
  },
  {
   "cell_type": "code",
   "execution_count": 12,
   "metadata": {},
   "outputs": [
    {
     "name": "stdout",
     "output_type": "stream",
     "text": [
      "150/150 [==============================] - 0s 203us/step\n"
     ]
    },
    {
     "data": {
      "text/plain": [
       "[0.2796045313278834, 0.9199999968210856]"
      ]
     },
     "execution_count": 12,
     "metadata": {},
     "output_type": "execute_result"
    }
   ],
   "source": [
    "model.evaluate(features, targets, batch_size=10)"
   ]
  },
  {
   "cell_type": "code",
   "execution_count": 13,
   "metadata": {},
   "outputs": [
    {
     "data": {
      "text/plain": [
       "['loss', 'acc']"
      ]
     },
     "execution_count": 13,
     "metadata": {},
     "output_type": "execute_result"
    }
   ],
   "source": [
    "model.metrics_names"
   ]
  },
  {
   "cell_type": "code",
   "execution_count": null,
   "metadata": {},
   "outputs": [],
   "source": []
  }
 ],
 "metadata": {
  "kernelspec": {
   "display_name": "Python 3",
   "language": "python",
   "name": "python3"
  },
  "language_info": {
   "codemirror_mode": {
    "name": "ipython",
    "version": 3
   },
   "file_extension": ".py",
   "mimetype": "text/x-python",
   "name": "python",
   "nbconvert_exporter": "python",
   "pygments_lexer": "ipython3",
   "version": "3.7.3"
  }
 },
 "nbformat": 4,
 "nbformat_minor": 2
}
